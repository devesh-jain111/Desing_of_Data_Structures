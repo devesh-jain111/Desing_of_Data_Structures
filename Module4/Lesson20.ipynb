{
  "nbformat": 4,
  "nbformat_minor": 0,
  "metadata": {
    "colab": {
      "provenance": [],
      "include_colab_link": true
    },
    "kernelspec": {
      "name": "python3",
      "display_name": "Python 3"
    },
    "language_info": {
      "name": "python"
    }
  },
  "cells": [
    {
      "cell_type": "markdown",
      "metadata": {
        "id": "view-in-github",
        "colab_type": "text"
      },
      "source": [
        "<a href=\"https://colab.research.google.com/github/anandchauhan21/Desing_of_Data_Structures/blob/main/Module4/Lesson20.ipynb\" target=\"_parent\"><img src=\"https://colab.research.google.com/assets/colab-badge.svg\" alt=\"Open In Colab\"/></a>"
      ]
    },
    {
      "cell_type": "markdown",
      "source": [
        "# 📚 Lesson 20: Interpolation Search\n",
        "\n",
        "## 🎯 Objective:\n",
        "Understand and implement **Interpolation Search** for ordered datasets.\n",
        "\n",
        "---\n",
        "\n",
        "## 🧠 Concept:\n",
        "- **Interpolation Search** is an improved variant of **Binary Search** for uniformly distributed sorted data.\n",
        "- Instead of always checking the middle element, it estimates the position of the key using **proportionality**.\n",
        "\n",
        "---\n",
        "\n",
        "## 📐 Formula:\n",
        "- `low` = index of first element\n",
        "- `high` = index of last element\n",
        "- `key` = value to search\n",
        "\n",
        "####`pos = low + ((key - arr[low]) * (high - low) / (arr[high] - arr[low]))`\n",
        "---\n",
        "\n",
        "## ⏱️ Time Complexity:\n",
        "- **Best case:** O(1)\n",
        "- **Average case:** O(log log n) for uniform distribution\n",
        "- **Worst case:** O(n) for skewed data\n",
        "\n",
        "## 🔄 Comparison: Interpolation Search vs Binary Search\n",
        "\n",
        "Both algorithms work on **sorted arrays**, but:\n",
        "- **Binary Search** always checks the middle element.\n",
        "- **Interpolation Search** estimates the position based on the value of the key and the distribution of the data.\n",
        "\n",
        "\n",
        "## ⚡ When to Use Which?\n",
        "- Use **Binary Search** if distribution is unknown or non-uniform.\n",
        "- Use **Interpolation Search** if data is **uniformly distributed** (e.g., roll numbers, evenly spaced sensor data).\n",
        "\n",
        "---\n",
        "\n",
        "## 📌 Key Points:\n",
        "- Works only on **sorted** data\n",
        "- Performs better than binary search for uniformly distributed data\n"
      ],
      "metadata": {
        "id": "f_Ekvg1RGyC3"
      }
    },
    {
      "cell_type": "markdown",
      "source": [
        "## Binary Search in Python"
      ],
      "metadata": {
        "id": "yx9RsKmQNjLo"
      }
    },
    {
      "cell_type": "code",
      "source": [
        "def binary_search(arr, key):\n",
        "    low = 0\n",
        "    high = len(arr) - 1\n",
        "\n",
        "    while low <= high:\n",
        "        mid = (low + high) // 2\n",
        "\n",
        "        if arr[mid] == key:\n",
        "            return mid\n",
        "        elif arr[mid] < key:\n",
        "            low = mid + 1\n",
        "        else:\n",
        "            high = mid - 1\n",
        "    return -1\n",
        "\n",
        "# 🔍 Test\n",
        "arr = [10, 20, 30, 40, 50, 60, 70]\n",
        "key = 40\n",
        "\n",
        "print(\"=== Binary Search ===\")\n",
        "index_bin = binary_search(arr, key)\n",
        "print(f\"Key {key} found at index:\", index_bin)\n",
        "\n",
        "print(\"\\n=== Interpolation Search ===\")\n",
        "index_int = interpolation_search(arr, key)\n",
        "print(f\"Key {key} found at index:\", index_int)\n"
      ],
      "metadata": {
        "id": "w56PF8M4Nffy"
      },
      "execution_count": null,
      "outputs": []
    },
    {
      "cell_type": "markdown",
      "source": [
        "## Python CODE"
      ],
      "metadata": {
        "id": "YwjxCZhZMEtL"
      }
    },
    {
      "cell_type": "code",
      "source": [
        "def interpolation_search(arr, key):\n",
        "    low = 0\n",
        "    high = len(arr) - 1\n",
        "\n",
        "    while low <= high and arr[low] <= key <= arr[high]:\n",
        "        if low == high:\n",
        "            if arr[low] == key:\n",
        "                return low\n",
        "            return -1\n",
        "\n",
        "        # Estimate position\n",
        "        pos = low + ((key - arr[low]) * (high - low) // (arr[high] - arr[low]))\n",
        "\n",
        "        if arr[pos] == key:\n",
        "            return pos\n",
        "        elif arr[pos] < key:\n",
        "            low = pos + 1\n",
        "        else:\n",
        "            high = pos - 1\n",
        "\n",
        "    return -1\n",
        "\n",
        "# 🔍 Test\n",
        "arr = [10, 20, 30, 40, 50, 60, 70]\n",
        "key = 40\n",
        "result = interpolation_search(arr, key)\n",
        "print(\"Array:\", arr)\n",
        "print(f\"Key {key} found at index:\", result)\n"
      ],
      "metadata": {
        "id": "PLkQ_2woMAqj"
      },
      "execution_count": null,
      "outputs": []
    },
    {
      "cell_type": "markdown",
      "source": [
        "## C Implementation"
      ],
      "metadata": {
        "id": "35Nwlwc8ORvU"
      }
    },
    {
      "cell_type": "code",
      "source": [
        "c_code = \"\"\"\n",
        "#include <stdio.h>\n",
        "\n",
        "int interpolation_search(int arr[], int n, int key) {\n",
        "    int low = 0, high = n - 1;\n",
        "\n",
        "    while (low <= high && key >= arr[low] && key <= arr[high]) {\n",
        "        if (low == high) {\n",
        "            if (arr[low] == key) return low;\n",
        "            return -1;\n",
        "        }\n",
        "\n",
        "        int pos = low + ((key - arr[low]) * (high - low) / (arr[high] - arr[low]));\n",
        "\n",
        "        if (arr[pos] == key)\n",
        "            return pos;\n",
        "        else if (arr[pos] < key)\n",
        "            low = pos + 1;\n",
        "        else\n",
        "            high = pos - 1;\n",
        "    }\n",
        "    return -1;\n",
        "}\n",
        "\n",
        "int main() {\n",
        "    int arr[] = {10, 20, 30, 40, 50, 60, 70};\n",
        "    int n = sizeof(arr) / sizeof(arr[0]);\n",
        "    int key = 40;\n",
        "\n",
        "    int index = interpolation_search(arr, n, key);\n",
        "    if (index != -1)\n",
        "        printf(\"Key %d found at index: %d\\\\n\", key, index);\n",
        "    else\n",
        "        printf(\"Key not found\\\\n\");\n",
        "    return 0;\n",
        "}\n",
        "\"\"\"\n",
        "\n",
        "with open(\"lesson20_interpolation.c\", \"w\") as f:\n",
        "    f.write(c_code)\n"
      ],
      "metadata": {
        "id": "OTcdYsqKMKVy"
      },
      "execution_count": null,
      "outputs": []
    },
    {
      "cell_type": "code",
      "source": [
        "!gcc lesson20_interpolation.c -o lesson20_c && ./lesson20_c\n"
      ],
      "metadata": {
        "id": "TvkebnxuMPDz"
      },
      "execution_count": null,
      "outputs": []
    },
    {
      "cell_type": "markdown",
      "source": [
        "## C++ Implementation"
      ],
      "metadata": {
        "id": "GTTotH6ROXQu"
      }
    },
    {
      "cell_type": "code",
      "source": [
        "cpp_code = \"\"\"\n",
        "#include <iostream>\n",
        "using namespace std;\n",
        "\n",
        "int interpolation_search(int arr[], int n, int key) {\n",
        "    int low = 0, high = n - 1;\n",
        "\n",
        "    while (low <= high && key >= arr[low] && key <= arr[high]) {\n",
        "        if (low == high) {\n",
        "            if (arr[low] == key) return low;\n",
        "            return -1;\n",
        "        }\n",
        "\n",
        "        int pos = low + ((key - arr[low]) * (high - low) / (arr[high] - arr[low]));\n",
        "\n",
        "        if (arr[pos] == key)\n",
        "            return pos;\n",
        "        else if (arr[pos] < key)\n",
        "            low = pos + 1;\n",
        "        else\n",
        "            high = pos - 1;\n",
        "    }\n",
        "    return -1;\n",
        "}\n",
        "\n",
        "int main() {\n",
        "    int arr[] = {10, 20, 30, 40, 50, 60, 70};\n",
        "    int n = sizeof(arr) / sizeof(arr[0]);\n",
        "    int key = 40;\n",
        "\n",
        "    int index = interpolation_search(arr, n, key);\n",
        "    if (index != -1)\n",
        "        cout << \"Key \" << key << \" found at index: \" << index << endl;\n",
        "    else\n",
        "        cout << \"Key not found\" << endl;\n",
        "\n",
        "    return 0;\n",
        "}\n",
        "\"\"\"\n",
        "\n",
        "with open(\"lesson20_interpolation.cpp\", \"w\") as f:\n",
        "    f.write(cpp_code)\n"
      ],
      "metadata": {
        "id": "5IQwK5CCMQaz"
      },
      "execution_count": null,
      "outputs": []
    },
    {
      "cell_type": "code",
      "source": [
        "!g++ lesson20_interpolation.cpp -o lesson20_cpp && ./lesson20_cpp"
      ],
      "metadata": {
        "id": "s1pHDmT5MWy0"
      },
      "execution_count": null,
      "outputs": []
    },
    {
      "cell_type": "markdown",
      "source": [
        "## JAVA Implementation"
      ],
      "metadata": {
        "id": "FCsnL7ciObr3"
      }
    },
    {
      "cell_type": "code",
      "source": [
        "java_code = \"\"\"\n",
        "public class Lesson20Interpolation {\n",
        "    public static int interpolationSearch(int[] arr, int key) {\n",
        "        int low = 0, high = arr.length - 1;\n",
        "\n",
        "        while (low <= high && key >= arr[low] && key <= arr[high]) {\n",
        "            if (low == high) {\n",
        "                if (arr[low] == key) return low;\n",
        "                return -1;\n",
        "            }\n",
        "\n",
        "            int pos = low + ((key - arr[low]) * (high - low) /\n",
        "                            (arr[high] - arr[low]));\n",
        "\n",
        "            if (arr[pos] == key)\n",
        "                return pos;\n",
        "            else if (arr[pos] < key)\n",
        "                low = pos + 1;\n",
        "            else\n",
        "                high = pos - 1;\n",
        "        }\n",
        "        return -1;\n",
        "    }\n",
        "\n",
        "    public static void main(String[] args) {\n",
        "        int[] arr = {10, 20, 30, 40, 50, 60, 70};\n",
        "        int key = 40;\n",
        "\n",
        "        int index = interpolationSearch(arr, key);\n",
        "        if (index != -1)\n",
        "            System.out.println(\"Key \" + key + \" found at index: \" + index);\n",
        "        else\n",
        "            System.out.println(\"Key not found\");\n",
        "    }\n",
        "}\n",
        "\"\"\"\n",
        "\n",
        "with open(\"Lesson20Interpolation.java\", \"w\") as f:\n",
        "    f.write(java_code)\n",
        "\n",
        "!javac Lesson20Interpolation.java\n",
        "!ja\n"
      ],
      "metadata": {
        "id": "NqHHA0XOMzJc"
      },
      "execution_count": null,
      "outputs": []
    },
    {
      "cell_type": "markdown",
      "source": [
        "---\n",
        "\n",
        "## ✅ Summary:\n",
        "- Interpolation Search estimates the probable position of the key in a sorted array.\n",
        "- Performs better than binary search for **uniformly distributed** data.\n",
        "\n",
        "---\n",
        "\n",
        "## 📘 Viva Questions:\n",
        "1. What is the main difference between interpolation and binary search?\n",
        "2. Why does interpolation search work better on uniformly distributed data?\n",
        "3. What happens if the data is skewed?\n",
        "4. What is the worst-case time complexity?\n",
        "\n",
        "⏭️ Next: Lesson 21 – Hashing Techniques\n"
      ],
      "metadata": {
        "id": "Jf3nnEo2G-m_"
      }
    }
  ]
}